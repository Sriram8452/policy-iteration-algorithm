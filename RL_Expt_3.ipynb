{
  "cells": [
    {
      "cell_type": "markdown",
      "metadata": {
        "id": "view-in-github"
      },
      "source": [
        "<a href=\"https://colab.research.google.com/github/obedotto/policy-iteration-algorithm/blob/main/Policy_Iteration_Algorithm.ipynb\" target=\"_parent\"><img src=\"https://colab.research.google.com/assets/colab-badge.svg\" alt=\"Open In Colab\"/></a>"
      ]
    },
    {
      "cell_type": "code",
      "execution_count": 42,
      "metadata": {
        "id": "X-NPnX6RC8EL"
      },
      "outputs": [],
      "source": [
        "import warnings ; warnings.filterwarnings('ignore')\n",
        "\n",
        "import gym, gym_walk\n",
        "import numpy as np\n",
        "\n",
        "import random\n",
        "import warnings\n",
        "\n",
        "warnings.filterwarnings('ignore', category=DeprecationWarning)\n",
        "np.set_printoptions(suppress=True)\n",
        "random.seed(123); np.random.seed(123)\n"
      ]
    },
    {
      "cell_type": "code",
      "execution_count": 43,
      "metadata": {
        "id": "Xq4FC7N-DYqX",
        "colab": {
          "base_uri": "https://localhost:8080/"
        },
        "outputId": "d376f082-a952-46eb-d99c-3ba620ad5f30"
      },
      "outputs": [
        {
          "output_type": "stream",
          "name": "stdout",
          "text": [
            "Collecting gym-walk\n",
            "  Cloning https://github.com/mimoralea/gym-walk to /tmp/pip-install-7hrmd7kc/gym-walk_ae748c98f78743cba5853c1d72bece7c\n",
            "  Running command git clone --filter=blob:none --quiet https://github.com/mimoralea/gym-walk /tmp/pip-install-7hrmd7kc/gym-walk_ae748c98f78743cba5853c1d72bece7c\n",
            "  Resolved https://github.com/mimoralea/gym-walk to commit 5999016267d6de2f5a63307fb00dfd63de319ac1\n",
            "  Preparing metadata (setup.py) ... \u001b[?25l\u001b[?25hdone\n",
            "Requirement already satisfied: gym in /usr/local/lib/python3.10/dist-packages (from gym-walk) (0.25.2)\n",
            "Requirement already satisfied: numpy>=1.18.0 in /usr/local/lib/python3.10/dist-packages (from gym->gym-walk) (1.26.4)\n",
            "Requirement already satisfied: cloudpickle>=1.2.0 in /usr/local/lib/python3.10/dist-packages (from gym->gym-walk) (2.2.1)\n",
            "Requirement already satisfied: gym-notices>=0.0.4 in /usr/local/lib/python3.10/dist-packages (from gym->gym-walk) (0.0.8)\n"
          ]
        }
      ],
      "source": [
        "pip install git+https://github.com/mimoralea/gym-walk#egg=gym-walk"
      ]
    },
    {
      "cell_type": "code",
      "execution_count": 44,
      "metadata": {
        "id": "ULnSv0hyELsY"
      },
      "outputs": [],
      "source": [
        "def print_policy(pi, P, action_symbols=('<', 'v', '>', '^'), n_cols=4, title='Policy:'):\n",
        "    print(title)\n",
        "    arrs = {k:v for k,v in enumerate(action_symbols)}\n",
        "    for s in range(len(P)):\n",
        "        a = pi(s)\n",
        "        print(\"| \", end=\"\")\n",
        "        if np.all([done for action in P[s].values() for _, _, _, done in action]):\n",
        "            print(\"\".rjust(9), end=\" \")\n",
        "        else:\n",
        "            print(str(s).zfill(2), arrs[a].rjust(6), end=\" \")\n",
        "        if (s + 1) % n_cols == 0: print(\"|\")"
      ]
    },
    {
      "cell_type": "code",
      "execution_count": 45,
      "metadata": {
        "id": "odrRzhpWFxY6"
      },
      "outputs": [],
      "source": [
        "def print_state_value_function(V, P, n_cols=4, prec=3, title='State-value function:'):\n",
        "    print(title)\n",
        "    for s in range(len(P)):\n",
        "        v = V[s]\n",
        "        print(\"| \", end=\"\")\n",
        "        if np.all([done for action in P[s].values() for _, _, _, done in action]):\n",
        "            print(\"\".rjust(9), end=\" \")\n",
        "        else:\n",
        "            print(str(s).zfill(2), '{}'.format(np.round(v, prec)).rjust(6), end=\" \")\n",
        "        if (s + 1) % n_cols == 0: print(\"|\")"
      ]
    },
    {
      "cell_type": "code",
      "execution_count": 46,
      "metadata": {
        "id": "1TQZrao3KV4z"
      },
      "outputs": [],
      "source": [
        "def probability_success(env, pi, goal_state, n_episodes=100, max_steps=200):\n",
        "    random.seed(123); np.random.seed(123) ; env.seed(123)\n",
        "    results = []\n",
        "    for _ in range(n_episodes):\n",
        "        state, done, steps = env.reset(), False, 0\n",
        "        while not done and steps < max_steps:\n",
        "            state, _, done, h = env.step(pi(state))\n",
        "            steps += 1\n",
        "        results.append(state == goal_state)\n",
        "    return np.sum(results)/len(results)"
      ]
    },
    {
      "cell_type": "code",
      "execution_count": 47,
      "metadata": {
        "id": "Jo6HA0ljKYWS"
      },
      "outputs": [],
      "source": [
        "def mean_return(env, pi, n_episodes=100, max_steps=200):\n",
        "    random.seed(123); np.random.seed(123) ; env.seed(123)\n",
        "    results = []\n",
        "    for _ in range(n_episodes):\n",
        "        state, done, steps = env.reset(), False, 0\n",
        "        results.append(0.0)\n",
        "        while not done and steps < max_steps:\n",
        "            state, reward, done, _ = env.step(pi(state))\n",
        "            results[-1] += reward\n",
        "            steps += 1\n",
        "    return np.mean(results)"
      ]
    },
    {
      "cell_type": "markdown",
      "metadata": {
        "id": "uMrHhEWREm6n"
      },
      "source": [
        "# Slippery Walk Five MDP\n",
        "\n"
      ]
    },
    {
      "cell_type": "code",
      "execution_count": 48,
      "metadata": {
        "id": "iQarExmVL-oc"
      },
      "outputs": [],
      "source": [
        "env = gym.make('SlipperyWalkFive-v0')\n",
        "P = env.env.P\n",
        "init_state = env.reset()\n",
        "goal_state = 6\n",
        "LEFT, RIGHT = range(2)"
      ]
    },
    {
      "cell_type": "code",
      "execution_count": 49,
      "metadata": {
        "id": "e1g6JQTez-NO",
        "colab": {
          "base_uri": "https://localhost:8080/"
        },
        "outputId": "7ec93981-6c8e-4998-cf59-175e0cc85a2d"
      },
      "outputs": [
        {
          "output_type": "execute_result",
          "data": {
            "text/plain": [
              "{0: {0: [(0.5000000000000001, 0, 0.0, True),\n",
              "   (0.3333333333333333, 0, 0.0, True),\n",
              "   (0.16666666666666666, 0, 0.0, True)],\n",
              "  1: [(0.5000000000000001, 0, 0.0, True),\n",
              "   (0.3333333333333333, 0, 0.0, True),\n",
              "   (0.16666666666666666, 0, 0.0, True)]},\n",
              " 1: {0: [(0.5000000000000001, 0, 0.0, True),\n",
              "   (0.3333333333333333, 1, 0.0, False),\n",
              "   (0.16666666666666666, 2, 0.0, False)],\n",
              "  1: [(0.5000000000000001, 2, 0.0, False),\n",
              "   (0.3333333333333333, 1, 0.0, False),\n",
              "   (0.16666666666666666, 0, 0.0, True)]},\n",
              " 2: {0: [(0.5000000000000001, 1, 0.0, False),\n",
              "   (0.3333333333333333, 2, 0.0, False),\n",
              "   (0.16666666666666666, 3, 0.0, False)],\n",
              "  1: [(0.5000000000000001, 3, 0.0, False),\n",
              "   (0.3333333333333333, 2, 0.0, False),\n",
              "   (0.16666666666666666, 1, 0.0, False)]},\n",
              " 3: {0: [(0.5000000000000001, 2, 0.0, False),\n",
              "   (0.3333333333333333, 3, 0.0, False),\n",
              "   (0.16666666666666666, 4, 0.0, False)],\n",
              "  1: [(0.5000000000000001, 4, 0.0, False),\n",
              "   (0.3333333333333333, 3, 0.0, False),\n",
              "   (0.16666666666666666, 2, 0.0, False)]},\n",
              " 4: {0: [(0.5000000000000001, 3, 0.0, False),\n",
              "   (0.3333333333333333, 4, 0.0, False),\n",
              "   (0.16666666666666666, 5, 0.0, False)],\n",
              "  1: [(0.5000000000000001, 5, 0.0, False),\n",
              "   (0.3333333333333333, 4, 0.0, False),\n",
              "   (0.16666666666666666, 3, 0.0, False)]},\n",
              " 5: {0: [(0.5000000000000001, 4, 0.0, False),\n",
              "   (0.3333333333333333, 5, 0.0, False),\n",
              "   (0.16666666666666666, 6, 1.0, True)],\n",
              "  1: [(0.5000000000000001, 6, 1.0, True),\n",
              "   (0.3333333333333333, 5, 0.0, False),\n",
              "   (0.16666666666666666, 4, 0.0, False)]},\n",
              " 6: {0: [(0.5000000000000001, 6, 0.0, True),\n",
              "   (0.3333333333333333, 6, 0.0, True),\n",
              "   (0.16666666666666666, 6, 0.0, True)],\n",
              "  1: [(0.5000000000000001, 6, 0.0, True),\n",
              "   (0.3333333333333333, 6, 0.0, True),\n",
              "   (0.16666666666666666, 6, 0.0, True)]}}"
            ]
          },
          "metadata": {},
          "execution_count": 49
        }
      ],
      "source": [
        "P"
      ]
    },
    {
      "cell_type": "code",
      "execution_count": 50,
      "metadata": {
        "id": "NodoNFNi4RM3",
        "colab": {
          "base_uri": "https://localhost:8080/"
        },
        "outputId": "ada61962-55c5-48be-b97a-55197689d2a8"
      },
      "outputs": [
        {
          "output_type": "execute_result",
          "data": {
            "text/plain": [
              "3"
            ]
          },
          "metadata": {},
          "execution_count": 50
        }
      ],
      "source": [
        "init_state"
      ]
    },
    {
      "cell_type": "code",
      "execution_count": 51,
      "metadata": {
        "id": "LG6WyB6K4NNs",
        "colab": {
          "base_uri": "https://localhost:8080/"
        },
        "outputId": "139bf5ef-e61e-433d-f3c0-6de6e1deac73"
      },
      "outputs": [
        {
          "output_type": "stream",
          "name": "stdout",
          "text": [
            "state:4 - reward:0.0 - done:False - info:{'prob': 0.5000000000000001}\n"
          ]
        }
      ],
      "source": [
        "state, reward, done, info = env.step(RIGHT)\n",
        "print(\"state:{0} - reward:{1} - done:{2} - info:{3}\".format(state, reward, done, info))"
      ]
    },
    {
      "cell_type": "code",
      "execution_count": 52,
      "metadata": {
        "id": "xDjAg7A5EuBl",
        "colab": {
          "base_uri": "https://localhost:8080/"
        },
        "outputId": "547fa9f0-2c84-4a8f-c76b-fdb3e3b4baf2"
      },
      "outputs": [
        {
          "output_type": "stream",
          "name": "stdout",
          "text": [
            "Policy:\n",
            "|           | 01      < | 02      < | 03      < | 04      < | 05      < |           |\n"
          ]
        }
      ],
      "source": [
        "# Adversarial Policy\n",
        "pi_1 = lambda s: {\n",
        "    0:LEFT, 1:LEFT, 2:LEFT, 3:LEFT, 4:LEFT, 5:LEFT, 6:LEFT\n",
        "}[s]\n",
        "print_policy(pi_1, P, action_symbols=('<', '>'), n_cols=7)"
      ]
    },
    {
      "cell_type": "code",
      "execution_count": 53,
      "metadata": {
        "id": "K_F49FYPKSla",
        "colab": {
          "base_uri": "https://localhost:8080/"
        },
        "outputId": "0a8af0ba-5761-4b05-b267-7fb150c34aaa"
      },
      "outputs": [
        {
          "output_type": "stream",
          "name": "stdout",
          "text": [
            "Reaches goal 3.00%. Obtains an average undiscounted return of 0.0300.\n"
          ]
        }
      ],
      "source": [
        "print('Reaches goal {:.2f}%. Obtains an average undiscounted return of {:.4f}.'.format(\n",
        "    probability_success(env, pi_1, goal_state=goal_state)*100,\n",
        "    mean_return(env, pi_1)))"
      ]
    },
    {
      "cell_type": "markdown",
      "metadata": {
        "id": "naeLUwLgFA5-"
      },
      "source": [
        "# Policy Evaluation"
      ]
    },
    {
      "cell_type": "code",
      "execution_count": 56,
      "metadata": {
        "id": "Eog1Pxb4E-Kp"
      },
      "outputs": [],
      "source": [
        "def policy_evaluation(pi, P, gamma=1.0, theta=1e-10):\n",
        "    prev_V = np.zeros(len(P), dtype=np.float64)\n",
        "    while True:\n",
        "        V = np.zeros(len(P), dtype=np.float64)\n",
        "        for s in range(len(P)):\n",
        "            for prob, next_state, reward, done in P[s][pi(s)]:\n",
        "                V[s] += prob * (reward + gamma * prev_V[next_state] * (not done))\n",
        "        if np.max(np.abs(prev_V - V)) < theta:\n",
        "            break\n",
        "        prev_V = V.copy()\n",
        "    return V"
      ]
    },
    {
      "cell_type": "code",
      "execution_count": 57,
      "metadata": {
        "id": "XFAH8_6GFGVs",
        "colab": {
          "base_uri": "https://localhost:8080/"
        },
        "outputId": "9e8a2a67-ae83-4f33-c9f7-d91a0f97e3ed"
      },
      "outputs": [
        {
          "output_type": "stream",
          "name": "stdout",
          "text": [
            "Name:  Sriram G                Register Number:  212222230149     \n",
            "State-value function:\n",
            "|           | 01 0.00275 | 02 0.01099 | 03 0.03571 | 04 0.10989 | 05 0.33242 |           |\n"
          ]
        }
      ],
      "source": [
        "# Code to evaluate the adversarial policy\n",
        "V1 = policy_evaluation(pi_1, P)\n",
        "print('Name:  Sriram G                Register Number:  212222230149     ')\n",
        "print_state_value_function(V1, P, n_cols=7, prec=5)"
      ]
    },
    {
      "cell_type": "markdown",
      "metadata": {
        "id": "C-DFPrKoAIF1"
      },
      "source": [
        "# Policy Improvement"
      ]
    },
    {
      "cell_type": "code",
      "execution_count": 68,
      "metadata": {
        "id": "Z2x10x9VAG1o"
      },
      "outputs": [],
      "source": [
        "def policy_improvement(V,P, gamma = 1.0):\n",
        "  Q = np.zeros((len(P),len(P[0])),dtype = np.float64)\n",
        "  for s in range(len(P)):\n",
        "    for a in range(len(P[s])):\n",
        "      for prob,next_state,reward,done in P[s][a]:\n",
        "         Q[s][a]+=prob*(reward+gamma*V[next_state]*(not done))\n",
        "\n",
        "  new_pi = lambda s: {s:a for s,a in enumerate(np.argmax(Q,axis=1))}[s]\n",
        "\n",
        "  return new_pi"
      ]
    },
    {
      "cell_type": "code",
      "execution_count": 69,
      "metadata": {
        "id": "eOvlP--dAncq",
        "colab": {
          "base_uri": "https://localhost:8080/"
        },
        "outputId": "85a9facc-99d1-4cf6-d34a-b597af14bf73"
      },
      "outputs": [
        {
          "output_type": "stream",
          "name": "stdout",
          "text": [
            "Name: Sriram G                 Register Number:212222230149    \n",
            "Policy:\n",
            "|           | 01      > | 02      > | 03      > | 04      > | 05      > |           |\n"
          ]
        }
      ],
      "source": [
        "# Finding the improved policy\n",
        "pi_2 = policy_improvement(V1, P)\n",
        "print('Name: Sriram G                 Register Number:212222230149    ')\n",
        "print_policy(pi_2, P, action_symbols=('<', '>'), n_cols=7)\n"
      ]
    },
    {
      "cell_type": "code",
      "execution_count": 70,
      "metadata": {
        "id": "LnJaDq4mA27u",
        "colab": {
          "base_uri": "https://localhost:8080/"
        },
        "outputId": "c15b6327-8f43-4b32-b3ae-828e951bff84"
      },
      "outputs": [
        {
          "output_type": "stream",
          "name": "stdout",
          "text": [
            "Reaches goal 97.00%. Obtains an average undiscounted return of 0.9700.\n"
          ]
        }
      ],
      "source": [
        "print('Reaches goal {:.2f}%. Obtains an average undiscounted return of {:.4f}.'.format(\n",
        "    probability_success(env, pi_2, goal_state=goal_state)*100,\n",
        "    mean_return(env, pi_2)))"
      ]
    },
    {
      "cell_type": "code",
      "execution_count": 71,
      "metadata": {
        "id": "A6aQnkiuBH-A",
        "colab": {
          "base_uri": "https://localhost:8080/"
        },
        "outputId": "18731aac-2f4b-4b2f-e52b-6512577c4e0b"
      },
      "outputs": [
        {
          "output_type": "stream",
          "name": "stdout",
          "text": [
            "Name: Sriram G                  Register Number:  212222230149    \n",
            "State-value function:\n",
            "|           | 01 0.66758 | 02 0.89011 | 03 0.96429 | 04 0.98901 | 05 0.99725 |           |\n"
          ]
        }
      ],
      "source": [
        "# Finding the value function for the improved policy\n",
        "V2 = policy_evaluation(pi_2, P)\n",
        "print('Name: Sriram G                  Register Number:  212222230149    ')\n",
        "print_state_value_function(V2, P, n_cols=7, prec=5)"
      ]
    },
    {
      "cell_type": "code",
      "execution_count": 72,
      "metadata": {
        "id": "7LgNwrO8BmXY",
        "colab": {
          "base_uri": "https://localhost:8080/"
        },
        "outputId": "00fd1972-9df2-4a5e-cb05-c704f5a61ad8"
      },
      "outputs": [
        {
          "output_type": "stream",
          "name": "stdout",
          "text": [
            "The second policy is the better policy\n"
          ]
        }
      ],
      "source": [
        "# comparing the initial and the improved policy\n",
        "if(np.sum(V1>=V2)==7):\n",
        "  print(\"The first policy is the better policy\")\n",
        "elif(np.sum(V2>=V1)==7):\n",
        "  print(\"The second policy is the better policy\")\n",
        "else:\n",
        "  print(\"Both policies have their merits.\")"
      ]
    },
    {
      "cell_type": "markdown",
      "metadata": {
        "id": "XL5JNrIKB0fd"
      },
      "source": [
        "# Policy Iteration"
      ]
    },
    {
      "cell_type": "code",
      "execution_count": 73,
      "metadata": {
        "id": "S_3hGyPlB2Dc"
      },
      "outputs": [],
      "source": [
        "def policy_iteration(P,gamma=1.0,theta=1e-10):\n",
        "  random_actions = np.random.choice(tuple(P[0].keys()),len(P))\n",
        "  pi = lambda s: {s:a for s,a in enumerate(random_actions)}[s]\n",
        "\n",
        "  while True:\n",
        "    old_pi = {s:pi(s) for s in range(len(P))}\n",
        "    V = policy_evaluation(pi,P,gamma,theta)\n",
        "    pi = policy_improvement(V,P,gamma)\n",
        "\n",
        "    if old_pi == {s:pi(s) for s in range(len(P))}:\n",
        "      break\n",
        "  return V,pi"
      ]
    },
    {
      "cell_type": "code",
      "execution_count": 74,
      "metadata": {
        "id": "OeLxNOjmCTk0"
      },
      "outputs": [],
      "source": [
        "optimal_V, optimal_pi = policy_iteration(P)"
      ]
    },
    {
      "cell_type": "code",
      "execution_count": 76,
      "metadata": {
        "id": "QHh4iMJuCbFc",
        "colab": {
          "base_uri": "https://localhost:8080/"
        },
        "outputId": "8ac513ff-9c97-41f5-e36a-d1ae0e064507"
      },
      "outputs": [
        {
          "output_type": "stream",
          "name": "stdout",
          "text": [
            "Name:   Sriram G                Register Number: 212222230149      \n",
            "Optimal policy and state-value function (PI):\n",
            "Policy:\n",
            "|           | 01      > | 02      > | 03      > | 04      > | 05      > |           |\n"
          ]
        }
      ],
      "source": [
        "print('Name:   Sriram G                Register Number: 212222230149      ')\n",
        "print('Optimal policy and state-value function (PI):')\n",
        "print_policy(optimal_pi, P, action_symbols=('<', '>'), n_cols=7)"
      ]
    },
    {
      "cell_type": "code",
      "execution_count": 75,
      "metadata": {
        "id": "jWKHQ_9QCfA7",
        "colab": {
          "base_uri": "https://localhost:8080/"
        },
        "outputId": "80a39727-ec3b-4772-8811-728641258afe"
      },
      "outputs": [
        {
          "output_type": "stream",
          "name": "stdout",
          "text": [
            "Reaches goal 97.00%. Obtains an average undiscounted return of 0.9700.\n"
          ]
        }
      ],
      "source": [
        "print('Reaches goal {:.2f}%. Obtains an average undiscounted return of {:.4f}.'.format(\n",
        "    probability_success(env, optimal_pi, goal_state=goal_state)*100,\n",
        "    mean_return(env, optimal_pi)))"
      ]
    },
    {
      "cell_type": "code",
      "execution_count": 77,
      "metadata": {
        "id": "UOI5gioZCgw-",
        "colab": {
          "base_uri": "https://localhost:8080/"
        },
        "outputId": "a7c342ef-e965-43dc-fcdc-4e7e2ba29d68"
      },
      "outputs": [
        {
          "output_type": "stream",
          "name": "stdout",
          "text": [
            "State-value function:\n",
            "|           | 01 0.66758 | 02 0.89011 | 03 0.96429 | 04 0.98901 | 05 0.99725 |           |\n"
          ]
        }
      ],
      "source": [
        "print_state_value_function(optimal_V, P, n_cols=7, prec=5)"
      ]
    }
  ],
  "metadata": {
    "colab": {
      "provenance": [],
      "toc_visible": true
    },
    "kernelspec": {
      "display_name": "Python 3",
      "name": "python3"
    },
    "language_info": {
      "name": "python"
    }
  },
  "nbformat": 4,
  "nbformat_minor": 0
}